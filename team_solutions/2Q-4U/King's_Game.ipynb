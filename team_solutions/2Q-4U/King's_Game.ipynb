{
 "cells": [
  {
   "cell_type": "code",
   "execution_count": 1,
   "metadata": {},
   "outputs": [],
   "source": [
    "import bloqade\n",
    "from bloqade import rydberg_h, piecewise_linear, piecewise_constant, waveform, cast\n",
    "from bloqade.atom_arrangement import ListOfLocations, Square\n",
    "from bokeh.io import output_notebook # to plot \"show()\" on the notebook, without opening a browser\n",
    "import os\n",
    "import matplotlib.pyplot as plt\n",
    "import numpy as np"
   ]
  },
  {
   "cell_type": "code",
   "execution_count": 15,
   "metadata": {},
   "outputs": [
    {
     "name": "stdout",
     "output_type": "stream",
     "text": [
      "4.591395462990791 in MHz/2*pi\n"
     ]
    }
   ],
   "source": [
    "C6 = 2*np.pi*862690\n",
    "#Setting lattice constant in um\n",
    "a = 4.5\n",
    "epsilon = 0.1\n",
    "R_b = np.sqrt(2*np.sqrt(2))*a\n",
    "#Delta that yields the desired Rydberg radius\n",
    "Delta_fin = (C6/(R_b)**6)/(2*np.pi)\n",
    "print(str(Delta_fin) + \" in MHz/2*pi\")\n",
    "Delta_0 = -Delta_fin\n"
   ]
  },
  {
   "cell_type": "markdown",
   "metadata": {},
   "source": [
    "C6 = 2*np.pi*862690\n",
    "#Setting lattice constant in um\n",
    "a = 5\n",
    "#Choosing the number fo nodes included in rydberg circle\n",
    "x = 1\n",
    "y = 1\n",
    "epsilon = 0.1\n",
    "R_b = a*(np.sqrt(x**2 +y **2)) + epsilon\n",
    "#Delta that yields the desired Rydberg radius\n",
    "Delta_fin = C6/(R_b)**6\n",
    "print(str(Delta_fin) + \" in MHz\")\n",
    "Delta_0 = -Delta_fin"
   ]
  },
  {
   "cell_type": "code",
   "execution_count": 11,
   "metadata": {},
   "outputs": [],
   "source": [
    "rng = np.random.default_rng(1234)\n",
    "atom_pos=Square(4, lattice_spacing=a).apply_defect_density(0.0, rng=rng).remove_vacant_sites()\n",
    "\n",
    "atom_pos.show()"
   ]
  },
  {
   "cell_type": "code",
   "execution_count": 16,
   "metadata": {},
   "outputs": [],
   "source": [
    "pulse_duration = 4\n",
    "durations = [0.3,3.4,0.3]\n",
    "delta_MHz=[Delta_0, Delta_0, Delta_fin, Delta_fin]\n",
    "omega_MHz= [0.0,2,2,0.0]\n",
    "Delta = piecewise_linear(durations,[x*2*np.pi for x in delta_MHz])\n",
    "Omega = piecewise_linear(durations,[x*2*np.pi for x in omega_MHz])\n",
    "\n",
    "integral = omega_MHz[1]*durations[0]+omega_MHz[1]*durations[1]\n",
    "\n",
    "#Delta.show()\n",
    "#Omega.show()"
   ]
  },
  {
   "cell_type": "code",
   "execution_count": 17,
   "metadata": {},
   "outputs": [
    {
     "data": {
      "text/html": [
       "<div>\n",
       "<style scoped>\n",
       "    .dataframe tbody tr th:only-of-type {\n",
       "        vertical-align: middle;\n",
       "    }\n",
       "\n",
       "    .dataframe tbody tr th {\n",
       "        vertical-align: top;\n",
       "    }\n",
       "\n",
       "    .dataframe thead th {\n",
       "        text-align: right;\n",
       "    }\n",
       "</style>\n",
       "<table border=\"1\" class=\"dataframe\">\n",
       "  <thead>\n",
       "    <tr style=\"text-align: right;\">\n",
       "      <th></th>\n",
       "      <th>0</th>\n",
       "      <th>1</th>\n",
       "      <th>2</th>\n",
       "      <th>3</th>\n",
       "      <th>4</th>\n",
       "      <th>5</th>\n",
       "      <th>6</th>\n",
       "      <th>7</th>\n",
       "      <th>8</th>\n",
       "      <th>9</th>\n",
       "      <th>10</th>\n",
       "      <th>11</th>\n",
       "      <th>12</th>\n",
       "      <th>13</th>\n",
       "      <th>14</th>\n",
       "      <th>15</th>\n",
       "    </tr>\n",
       "    <tr>\n",
       "      <th>task_number</th>\n",
       "      <th></th>\n",
       "      <th></th>\n",
       "      <th></th>\n",
       "      <th></th>\n",
       "      <th></th>\n",
       "      <th></th>\n",
       "      <th></th>\n",
       "      <th></th>\n",
       "      <th></th>\n",
       "      <th></th>\n",
       "      <th></th>\n",
       "      <th></th>\n",
       "      <th></th>\n",
       "      <th></th>\n",
       "      <th></th>\n",
       "      <th></th>\n",
       "    </tr>\n",
       "  </thead>\n",
       "  <tbody>\n",
       "    <tr>\n",
       "      <th>0</th>\n",
       "      <td>0.99</td>\n",
       "      <td>0.0</td>\n",
       "      <td>0.0</td>\n",
       "      <td>0.98</td>\n",
       "      <td>0.01</td>\n",
       "      <td>0.0</td>\n",
       "      <td>0.01</td>\n",
       "      <td>0.01</td>\n",
       "      <td>0.01</td>\n",
       "      <td>0.0</td>\n",
       "      <td>0.05</td>\n",
       "      <td>0.02</td>\n",
       "      <td>0.97</td>\n",
       "      <td>0.01</td>\n",
       "      <td>0.01</td>\n",
       "      <td>0.9</td>\n",
       "    </tr>\n",
       "  </tbody>\n",
       "</table>\n",
       "</div>"
      ],
      "text/plain": [
       "               0    1    2     3     4    5     6     7     8    9     10  \\\n",
       "task_number                                                                 \n",
       "0            0.99  0.0  0.0  0.98  0.01  0.0  0.01  0.01  0.01  0.0  0.05   \n",
       "\n",
       "               11    12    13    14   15  \n",
       "task_number                               \n",
       "0            0.02  0.97  0.01  0.01  0.9  "
      ]
     },
     "execution_count": 17,
     "metadata": {},
     "output_type": "execute_result"
    }
   ],
   "source": [
    "program = rydberg_h(atom_pos, detuning= Delta, amplitude=Omega, phase=None)\n",
    "output = program.bloqade.python().run(shots=100, interaction_picture=True)\n",
    "output.report().bitstrings()\n",
    "output.report().counts()\n",
    "output.report().rydberg_densities()"
   ]
  },
  {
   "cell_type": "code",
   "execution_count": null,
   "metadata": {},
   "outputs": [],
   "source": []
  }
 ],
 "metadata": {
  "kernelspec": {
   "display_name": "hacathon",
   "language": "python",
   "name": "python3"
  },
  "language_info": {
   "codemirror_mode": {
    "name": "ipython",
    "version": 3
   },
   "file_extension": ".py",
   "mimetype": "text/x-python",
   "name": "python",
   "nbconvert_exporter": "python",
   "pygments_lexer": "ipython3",
   "version": "3.12.3"
  }
 },
 "nbformat": 4,
 "nbformat_minor": 2
}
